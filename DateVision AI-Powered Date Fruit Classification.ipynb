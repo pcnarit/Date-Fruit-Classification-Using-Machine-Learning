{
 "cells": [
  {
   "cell_type": "markdown",
   "id": "980d1129-02fe-4df7-8a03-b18ef889ae60",
   "metadata": {},
   "source": [
    "## Objective\n",
    "To determine the variety of date fruit using data describing the **colour**, **length**, **diameter**, and **shape**.\n",
    "\n",
    "## Data\n",
    "The dataset is obtained from [DATASETS (muratkoklu.com)](http://muratkoklu.com) and was used in the following publication:\n",
    "\n",
    "- **M. Koklu, R. Kursun, Y.S. Taspinar, and I. Cinar**, \"Classification of Date Fruits into Genetic Varieties Using Image Analysis,\" *Mathematical Problems in Engineering*, Vol. 2021, Article ID: 4793293 (2021).\n",
    "\n",
    "## Problem Statement\n",
    "In food production, accurate labeling of ingredients is crucial for both health and business purposes. However, mistakes can happen, and there is significant room for improvement in food labeling practices.\n",
    "\n",
    "A variety of dates are grown globally, and identifying the specific type requires expertise. The task is to build a machine learning model that can classify the type of date fruit based on external features such as:\n",
    "\n",
    "- **Colour**\n",
    "- **Length**\n",
    "- **Diameter**\n",
    "- **Shape factors**\n",
    "\n",
    "These features have been extracted using a computer vision model.\n",
    "\n",
    "## Task\n",
    "As a machine learning developer, your goal is to develop a classification model capable of identifying the variety of date fruits from the given features.\n",
    "\n",
    "---\n"
   ]
  },
  {
   "cell_type": "code",
   "execution_count": 24,
   "id": "f95fc44a-c763-43c6-b9cf-022e5e63070c",
   "metadata": {
    "tags": []
   },
   "outputs": [],
   "source": [
    "import pandas as pd\n",
    "import matplotlib.pyplot as plt\n",
    "import numpy as np\n",
    "import tensorflow as tf\n",
    "import seaborn as sns\n",
    "from sklearn.preprocessing import LabelEncoder, MinMaxScaler\n",
    "from sklearn.model_selection import train_test_split\n",
    "from tensorflow.keras.models import Sequential\n",
    "from tensorflow.keras.layers import Dense, Dropout\n",
    "from tensorflow.keras import regularizers\n",
    "from tensorflow.keras.layers import BatchNormalization\n",
    "from tensorflow.keras.regularizers import l2\n",
    "from sklearn.metrics import classification_report, confusion_matrix"
   ]
  },
  {
   "cell_type": "code",
   "execution_count": 2,
   "id": "fcdc8d57-13b8-49b1-8b01-a86c6cfdd538",
   "metadata": {
    "tags": []
   },
   "outputs": [],
   "source": [
    "data = pd.read_csv('Date_Fruit_Datasets.csv')"
   ]
  },
  {
   "cell_type": "code",
   "execution_count": 3,
   "id": "4b3390ad-9b17-493e-9dc2-750288aff025",
   "metadata": {
    "tags": []
   },
   "outputs": [
    {
     "data": {
      "text/html": [
       "<div>\n",
       "<style scoped>\n",
       "    .dataframe tbody tr th:only-of-type {\n",
       "        vertical-align: middle;\n",
       "    }\n",
       "\n",
       "    .dataframe tbody tr th {\n",
       "        vertical-align: top;\n",
       "    }\n",
       "\n",
       "    .dataframe thead th {\n",
       "        text-align: right;\n",
       "    }\n",
       "</style>\n",
       "<table border=\"1\" class=\"dataframe\">\n",
       "  <thead>\n",
       "    <tr style=\"text-align: right;\">\n",
       "      <th></th>\n",
       "      <th>AREA</th>\n",
       "      <th>PERIMETER</th>\n",
       "      <th>MAJOR_AXIS</th>\n",
       "      <th>MINOR_AXIS</th>\n",
       "      <th>ECCENTRICITY</th>\n",
       "      <th>EQDIASQ</th>\n",
       "      <th>SOLIDITY</th>\n",
       "      <th>CONVEX_AREA</th>\n",
       "      <th>EXTENT</th>\n",
       "      <th>ASPECT_RATIO</th>\n",
       "      <th>...</th>\n",
       "      <th>KurtosisRR</th>\n",
       "      <th>KurtosisRG</th>\n",
       "      <th>KurtosisRB</th>\n",
       "      <th>EntropyRR</th>\n",
       "      <th>EntropyRG</th>\n",
       "      <th>EntropyRB</th>\n",
       "      <th>ALLdaub4RR</th>\n",
       "      <th>ALLdaub4RG</th>\n",
       "      <th>ALLdaub4RB</th>\n",
       "      <th>Class</th>\n",
       "    </tr>\n",
       "  </thead>\n",
       "  <tbody>\n",
       "    <tr>\n",
       "      <td>0</td>\n",
       "      <td>422163</td>\n",
       "      <td>2378.908</td>\n",
       "      <td>837.8484</td>\n",
       "      <td>645.6693</td>\n",
       "      <td>0.6373</td>\n",
       "      <td>733.1539</td>\n",
       "      <td>0.9947</td>\n",
       "      <td>424428</td>\n",
       "      <td>0.7831</td>\n",
       "      <td>1.2976</td>\n",
       "      <td>...</td>\n",
       "      <td>3.2370</td>\n",
       "      <td>2.9574</td>\n",
       "      <td>4.2287</td>\n",
       "      <td>-5.919126e+10</td>\n",
       "      <td>-50714214400</td>\n",
       "      <td>-39922372608</td>\n",
       "      <td>58.7255</td>\n",
       "      <td>54.9554</td>\n",
       "      <td>47.8400</td>\n",
       "      <td>BERHI</td>\n",
       "    </tr>\n",
       "    <tr>\n",
       "      <td>1</td>\n",
       "      <td>338136</td>\n",
       "      <td>2085.144</td>\n",
       "      <td>723.8198</td>\n",
       "      <td>595.2073</td>\n",
       "      <td>0.5690</td>\n",
       "      <td>656.1464</td>\n",
       "      <td>0.9974</td>\n",
       "      <td>339014</td>\n",
       "      <td>0.7795</td>\n",
       "      <td>1.2161</td>\n",
       "      <td>...</td>\n",
       "      <td>2.6228</td>\n",
       "      <td>2.6350</td>\n",
       "      <td>3.1704</td>\n",
       "      <td>-3.423307e+10</td>\n",
       "      <td>-37462601728</td>\n",
       "      <td>-31477794816</td>\n",
       "      <td>50.0259</td>\n",
       "      <td>52.8168</td>\n",
       "      <td>47.8315</td>\n",
       "      <td>BERHI</td>\n",
       "    </tr>\n",
       "    <tr>\n",
       "      <td>2</td>\n",
       "      <td>526843</td>\n",
       "      <td>2647.394</td>\n",
       "      <td>940.7379</td>\n",
       "      <td>715.3638</td>\n",
       "      <td>0.6494</td>\n",
       "      <td>819.0222</td>\n",
       "      <td>0.9962</td>\n",
       "      <td>528876</td>\n",
       "      <td>0.7657</td>\n",
       "      <td>1.3150</td>\n",
       "      <td>...</td>\n",
       "      <td>3.7516</td>\n",
       "      <td>3.8611</td>\n",
       "      <td>4.7192</td>\n",
       "      <td>-9.394835e+10</td>\n",
       "      <td>-74738221056</td>\n",
       "      <td>-60311207936</td>\n",
       "      <td>65.4772</td>\n",
       "      <td>59.2860</td>\n",
       "      <td>51.9378</td>\n",
       "      <td>BERHI</td>\n",
       "    </tr>\n",
       "    <tr>\n",
       "      <td>3</td>\n",
       "      <td>416063</td>\n",
       "      <td>2351.210</td>\n",
       "      <td>827.9804</td>\n",
       "      <td>645.2988</td>\n",
       "      <td>0.6266</td>\n",
       "      <td>727.8378</td>\n",
       "      <td>0.9948</td>\n",
       "      <td>418255</td>\n",
       "      <td>0.7759</td>\n",
       "      <td>1.2831</td>\n",
       "      <td>...</td>\n",
       "      <td>5.0401</td>\n",
       "      <td>8.6136</td>\n",
       "      <td>8.2618</td>\n",
       "      <td>-3.207431e+10</td>\n",
       "      <td>-32060925952</td>\n",
       "      <td>-29575010304</td>\n",
       "      <td>43.3900</td>\n",
       "      <td>44.1259</td>\n",
       "      <td>41.1882</td>\n",
       "      <td>BERHI</td>\n",
       "    </tr>\n",
       "    <tr>\n",
       "      <td>4</td>\n",
       "      <td>347562</td>\n",
       "      <td>2160.354</td>\n",
       "      <td>763.9877</td>\n",
       "      <td>582.8359</td>\n",
       "      <td>0.6465</td>\n",
       "      <td>665.2291</td>\n",
       "      <td>0.9908</td>\n",
       "      <td>350797</td>\n",
       "      <td>0.7569</td>\n",
       "      <td>1.3108</td>\n",
       "      <td>...</td>\n",
       "      <td>2.7016</td>\n",
       "      <td>2.9761</td>\n",
       "      <td>4.4146</td>\n",
       "      <td>-3.998097e+10</td>\n",
       "      <td>-35980042240</td>\n",
       "      <td>-25593278464</td>\n",
       "      <td>52.7743</td>\n",
       "      <td>50.9080</td>\n",
       "      <td>42.6666</td>\n",
       "      <td>BERHI</td>\n",
       "    </tr>\n",
       "  </tbody>\n",
       "</table>\n",
       "<p>5 rows × 35 columns</p>\n",
       "</div>"
      ],
      "text/plain": [
       "     AREA  PERIMETER  MAJOR_AXIS  MINOR_AXIS  ECCENTRICITY   EQDIASQ  \\\n",
       "0  422163   2378.908    837.8484    645.6693        0.6373  733.1539   \n",
       "1  338136   2085.144    723.8198    595.2073        0.5690  656.1464   \n",
       "2  526843   2647.394    940.7379    715.3638        0.6494  819.0222   \n",
       "3  416063   2351.210    827.9804    645.2988        0.6266  727.8378   \n",
       "4  347562   2160.354    763.9877    582.8359        0.6465  665.2291   \n",
       "\n",
       "   SOLIDITY  CONVEX_AREA  EXTENT  ASPECT_RATIO  ...  KurtosisRR  KurtosisRG  \\\n",
       "0    0.9947       424428  0.7831        1.2976  ...      3.2370      2.9574   \n",
       "1    0.9974       339014  0.7795        1.2161  ...      2.6228      2.6350   \n",
       "2    0.9962       528876  0.7657        1.3150  ...      3.7516      3.8611   \n",
       "3    0.9948       418255  0.7759        1.2831  ...      5.0401      8.6136   \n",
       "4    0.9908       350797  0.7569        1.3108  ...      2.7016      2.9761   \n",
       "\n",
       "   KurtosisRB     EntropyRR    EntropyRG    EntropyRB  ALLdaub4RR  ALLdaub4RG  \\\n",
       "0      4.2287 -5.919126e+10 -50714214400 -39922372608     58.7255     54.9554   \n",
       "1      3.1704 -3.423307e+10 -37462601728 -31477794816     50.0259     52.8168   \n",
       "2      4.7192 -9.394835e+10 -74738221056 -60311207936     65.4772     59.2860   \n",
       "3      8.2618 -3.207431e+10 -32060925952 -29575010304     43.3900     44.1259   \n",
       "4      4.4146 -3.998097e+10 -35980042240 -25593278464     52.7743     50.9080   \n",
       "\n",
       "   ALLdaub4RB  Class  \n",
       "0     47.8400  BERHI  \n",
       "1     47.8315  BERHI  \n",
       "2     51.9378  BERHI  \n",
       "3     41.1882  BERHI  \n",
       "4     42.6666  BERHI  \n",
       "\n",
       "[5 rows x 35 columns]"
      ]
     },
     "execution_count": 3,
     "metadata": {},
     "output_type": "execute_result"
    }
   ],
   "source": [
    "data.head()"
   ]
  },
  {
   "cell_type": "code",
   "execution_count": 4,
   "id": "06e417f4-2d36-4bd1-b7c6-41c0e4c93012",
   "metadata": {
    "tags": []
   },
   "outputs": [
    {
     "name": "stdout",
     "output_type": "stream",
     "text": [
      "Columns 1 to 10:\n",
      "                AREA    PERIMETER   MAJOR_AXIS  MINOR_AXIS  ECCENTRICITY  \\\n",
      "count     898.000000   898.000000   898.000000  898.000000    898.000000   \n",
      "mean   298295.207127  2057.660953   750.811994  495.872785      0.737468   \n",
      "std    107245.205337   410.012459   144.059326  114.268917      0.088727   \n",
      "min      1987.000000   911.828000   336.722700    2.283200      0.344800   \n",
      "25%    206948.000000  1726.091500   641.068650  404.684375      0.685625   \n",
      "50%    319833.000000  2196.345450   791.363400  495.054850      0.754700   \n",
      "75%    382573.000000  2389.716575   858.633750  589.031700      0.802150   \n",
      "max    546063.000000  2811.997100  1222.723000  766.453600      1.000000   \n",
      "\n",
      "          EQDIASQ    SOLIDITY    CONVEX_AREA      EXTENT  ASPECT_RATIO  \n",
      "count  898.000000  898.000000     898.000000  898.000000    898.000000  \n",
      "mean   604.577938    0.981840  303845.592428    0.736267      2.131102  \n",
      "std    119.593888    0.018157  108815.656947    0.053745     17.820778  \n",
      "min     50.298400    0.836600    2257.000000    0.512300      1.065300  \n",
      "25%    513.317075    0.978825  210022.750000    0.705875      1.373725  \n",
      "50%    638.140950    0.987300  327207.000000    0.746950      1.524150  \n",
      "75%    697.930525    0.991800  388804.000000    0.775850      1.674750  \n",
      "max    833.827900    0.997400  552598.000000    0.856200    535.525700  \n",
      "\n",
      "================================================================================\n",
      "\n",
      "Columns 11 to 20:\n",
      "        ROUNDNESS  COMPACTNESS  SHAPEFACTOR_1  SHAPEFACTOR_2  SHAPEFACTOR_3  \\\n",
      "count  898.000000   898.000000     898.000000     898.000000     898.000000   \n",
      "mean     0.857720     0.807190       0.003428       0.001794       0.655420   \n",
      "std      0.070839     0.062175       0.020456       0.000428       0.094314   \n",
      "min      0.004800     0.041100       0.001700       0.001100       0.001700   \n",
      "25%      0.827750     0.768050       0.002200       0.001500       0.589975   \n",
      "50%      0.867750     0.804950       0.002600       0.001600       0.647950   \n",
      "75%      0.899500     0.848875       0.003200       0.002075       0.720625   \n",
      "max      0.977300     0.968100       0.615400       0.004300       0.937300   \n",
      "\n",
      "       SHAPEFACTOR_4      MeanRR      MeanRG      MeanRB    StdDevRR  \n",
      "count     898.000000  898.000000  898.000000  898.000000  898.000000  \n",
      "mean        0.988680  100.165885   97.609401   96.194889   29.047436  \n",
      "std         0.020473   32.126549   28.251801   21.627409    6.306931  \n",
      "min         0.756800   30.382600   41.048000   44.256900    7.303800  \n",
      "25%         0.989300   76.448000   77.306125   78.502375   24.901525  \n",
      "50%         0.993600  107.682450  100.676000   99.225600   29.709450  \n",
      "75%         0.996400  126.127450  119.159600  113.332250   33.274375  \n",
      "max         0.999500  159.649400  166.135400  148.211400   48.571200  \n",
      "\n",
      "================================================================================\n",
      "\n",
      "Columns 21 to 30:\n",
      "         StdDevRG    StdDevRB      SkewRR      SkewRG      SkewRB  KurtosisRR  \\\n",
      "count  898.000000  898.000000  898.000000  898.000000  898.000000  898.000000   \n",
      "mean    26.383362   26.148330    0.089266    0.564139    0.250518    4.247845   \n",
      "std      5.462164    4.905078    0.943285    1.039813    0.632918    2.892357   \n",
      "min      8.655700    5.148600   -1.724200   -1.834400   -1.029100    1.708200   \n",
      "25%     22.289650   22.890975   -0.549900   -0.230200   -0.196950    2.536625   \n",
      "50%     25.638300   26.469000   -0.162700    0.243750    0.135550    3.069800   \n",
      "75%     29.905325   29.482375    0.471025    1.406550    0.593950    4.449850   \n",
      "max     45.510700   42.422800    3.223600    3.697100    3.092300   26.171100   \n",
      "\n",
      "       KurtosisRG  KurtosisRB     EntropyRR     EntropyRG  \n",
      "count  898.000000  898.000000  8.980000e+02  8.980000e+02  \n",
      "mean     5.110894    3.780928 -3.185021e+10 -2.901860e+10  \n",
      "std      3.745463    2.049831  2.037241e+10  1.712952e+10  \n",
      "min      1.607600    1.767200 -1.091220e+11 -9.261697e+10  \n",
      "25%      2.508850    2.577275 -4.429444e+10 -3.894638e+10  \n",
      "50%      3.127800    3.080700 -2.826156e+10 -2.620990e+10  \n",
      "75%      7.320400    4.283125 -1.460482e+10 -1.433105e+10  \n",
      "max     26.736700   32.249500 -1.627316e+08 -5.627727e+08  \n",
      "\n",
      "================================================================================\n",
      "\n",
      "Columns 31 to 35:\n",
      "          EntropyRB  ALLdaub4RR  ALLdaub4RG  ALLdaub4RB\n",
      "count  8.980000e+02  898.000000  898.000000  898.000000\n",
      "mean  -2.771876e+10   50.082888   48.805681   48.098393\n",
      "std    1.484137e+10   16.063125   14.125911   10.813862\n",
      "min   -8.747177e+10   15.191100   20.524700   22.130000\n",
      "25%   -3.564534e+10   38.224425   38.654525   39.250725\n",
      "50%   -2.392928e+10   53.841300   50.337800   49.614100\n",
      "75%   -1.660367e+10   63.063350   59.573600   56.666675\n",
      "max   -4.370435e+08   79.828900   83.064900   74.104600\n",
      "\n",
      "================================================================================\n",
      "\n"
     ]
    }
   ],
   "source": [
    "# This code is designed to display summary statistics for a large dataset by processing the columns in manageable chunks of 10 at a time.\n",
    "columns2 = data.columns\n",
    "\n",
    "\n",
    "# Defining the chunk size in this case i want 10.\n",
    "chunk_size = 10  # Number of columns to display at a time\n",
    "num_columns = len(columns2)  # Total number of columns in the dataset\n",
    "\n",
    "\n",
    "\n",
    "# Looping through the columns in chunks\n",
    "for start in range(0, num_columns, chunk_size):\n",
    "    \n",
    "    # Calculating the range of columns to display\n",
    "    end = min(start + chunk_size, num_columns) \n",
    "    \n",
    "    # Printing the range of columns being displayed\n",
    "    print(f\"Columns {start + 1} to {end}:\")\n",
    "    \n",
    "    # Displaying summary statistics for these columns\n",
    "    print(data[columns2[start:end]].describe())\n",
    "    \n",
    "    # Adding a separator for readability\n",
    "    print(\"\\n\" + \"=\" * 80 + \"\\n\")\n"
   ]
  },
  {
   "cell_type": "code",
   "execution_count": 5,
   "id": "ad485b9a-4f2d-4f95-87e0-b8c1d5e5113b",
   "metadata": {
    "tags": []
   },
   "outputs": [
    {
     "name": "stdout",
     "output_type": "stream",
     "text": [
      "Index(['AREA', 'PERIMETER', 'MAJOR_AXIS', 'MINOR_AXIS', 'ECCENTRICITY',\n",
      "       'EQDIASQ', 'SOLIDITY', 'CONVEX_AREA', 'EXTENT', 'ASPECT_RATIO',\n",
      "       'ROUNDNESS', 'COMPACTNESS', 'SHAPEFACTOR_1', 'SHAPEFACTOR_2',\n",
      "       'SHAPEFACTOR_3', 'SHAPEFACTOR_4', 'MeanRR', 'MeanRG', 'MeanRB',\n",
      "       'StdDevRR', 'StdDevRG', 'StdDevRB', 'SkewRR', 'SkewRG', 'SkewRB',\n",
      "       'KurtosisRR', 'KurtosisRG', 'KurtosisRB', 'EntropyRR', 'EntropyRG',\n",
      "       'EntropyRB', 'ALLdaub4RR', 'ALLdaub4RG', 'ALLdaub4RB', 'Class'],\n",
      "      dtype='object')\n"
     ]
    }
   ],
   "source": [
    "# Printing all the data columns\n",
    "print(data.columns)"
   ]
  },
  {
   "cell_type": "code",
   "execution_count": 6,
   "id": "f71fa11e-aa48-4e42-adfe-82b89db91b3d",
   "metadata": {
    "tags": []
   },
   "outputs": [
    {
     "data": {
      "text/plain": [
       "array(['BERHI', 'DEGLET', 'DOKOL', 'IRAQI', 'ROTANA', 'SAFAVI', 'SOGAY'],\n",
       "      dtype=object)"
      ]
     },
     "execution_count": 6,
     "metadata": {},
     "output_type": "execute_result"
    }
   ],
   "source": [
    "# Printing different classes of date\n",
    "data['Class'].unique()"
   ]
  },
  {
   "cell_type": "markdown",
   "id": "7ebe662d-b0e6-4947-9371-e6eae33d6fe0",
   "metadata": {},
   "source": [
    "## Explanation of the Columns and Dataset Observations\n",
    "\n",
    "### **1. Morphological Features**\n",
    "These features describe the physical shape and size of the date fruits:\n",
    "- **AREA**: The total number of pixels representing the fruit's surface.\n",
    "- **PERIMETER**: The boundary length of the fruit in pixels.\n",
    "- **MAJOR_AXIS**: The longest diameter of the fruit's shape.\n",
    "- **MINOR_AXIS**: The shortest diameter perpendicular to the major axis.\n",
    "- **ECCENTRICITY**: A measure of how elongated the fruit is, ranging from 0 (circular) to 1 (elongated).\n",
    "- **EQDIASQ** (Equivalent Diameter): The diameter of a circle with the same area as the fruit.\n",
    "- **SOLIDITY**: The ratio of the fruit's area to its convex hull area, indicating how compact the shape is.\n",
    "- **CONVEX_AREA**: The area of the smallest convex polygon enclosing the fruit.\n",
    "- **EXTENT**: The ratio of the fruit’s area to the bounding box area, showing how much space the fruit occupies in its box.\n",
    "- **ASPECT_RATIO**: The ratio of the major axis to the minor axis.\n",
    "- **ROUNDNESS**: Measures how circular the shape is.\n",
    "- **COMPACTNESS**: A measure of how closely packed the fruit's pixels are.\n",
    "\n",
    "---\n",
    "\n",
    "### **2. Shape Features**\n",
    "These features quantify more intricate shape-related properties:\n",
    "- **SHAPEFACTOR_1**: Relates to shape complexity based on area and perimeter.\n",
    "- **SHAPEFACTOR_2**: Another measure of shape irregularity.\n",
    "- **SHAPEFACTOR_3**: Combines compactness and roundness to describe shape.\n",
    "- **SHAPEFACTOR_4**: Focuses on the curvature of the fruit's boundary.\n",
    "\n",
    "---\n",
    "\n",
    "### **3. Color Features**\n",
    "These features describe the color distribution of the fruit:\n",
    "- **MeanRR, MeanRG, MeanRB**: Average values of red, green, and blue intensities in the image.\n",
    "- **StdDevRR, StdDevRG, StdDevRB**: Standard deviations of red, green, and blue intensities, indicating variability.\n",
    "- **SkewRR, SkewRG, SkewRB**: Skewness of the red, green, and blue intensities, showing the asymmetry of color distribution.\n",
    "- **KurtosisRR, KurtosisRG, KurtosisRB**: Kurtosis of red, green, and blue intensities, describing the \"tailedness\" of the color distribution.\n",
    "- **EntropyRR, EntropyRG, EntropyRB**: Entropy measures the randomness in color intensity distributions.\n",
    "- **ALLdaub4RR, ALLdaub4RG, ALLdaub4RB**: Daubechies 4 wavelet features of the red, green, and blue channels, used for texture analysis.\n",
    "\n",
    "---\n",
    "\n",
    "### **4. Class**\n",
    "- The **Class** column identifies the type of date fruit ('BERHI', 'DEGLET', 'DOKOL', 'IRAQI', 'ROTANA', 'SAFAVI', 'SOGAY').\n",
    "\n",
    "---"
   ]
  },
  {
   "cell_type": "code",
   "execution_count": 20,
   "id": "d9a9f747-8165-410c-970b-4ed4f172718a",
   "metadata": {
    "tags": []
   },
   "outputs": [
    {
     "name": "stdout",
     "output_type": "stream",
     "text": [
      "<class 'pandas.core.frame.DataFrame'>\n",
      "RangeIndex: 898 entries, 0 to 897\n",
      "Data columns (total 35 columns):\n",
      "AREA             898 non-null int64\n",
      "PERIMETER        898 non-null float64\n",
      "MAJOR_AXIS       898 non-null float64\n",
      "MINOR_AXIS       898 non-null float64\n",
      "ECCENTRICITY     898 non-null float64\n",
      "EQDIASQ          898 non-null float64\n",
      "SOLIDITY         898 non-null float64\n",
      "CONVEX_AREA      898 non-null int64\n",
      "EXTENT           898 non-null float64\n",
      "ASPECT_RATIO     898 non-null float64\n",
      "ROUNDNESS        898 non-null float64\n",
      "COMPACTNESS      898 non-null float64\n",
      "SHAPEFACTOR_1    898 non-null float64\n",
      "SHAPEFACTOR_2    898 non-null float64\n",
      "SHAPEFACTOR_3    898 non-null float64\n",
      "SHAPEFACTOR_4    898 non-null float64\n",
      "MeanRR           898 non-null float64\n",
      "MeanRG           898 non-null float64\n",
      "MeanRB           898 non-null float64\n",
      "StdDevRR         898 non-null float64\n",
      "StdDevRG         898 non-null float64\n",
      "StdDevRB         898 non-null float64\n",
      "SkewRR           898 non-null float64\n",
      "SkewRG           898 non-null float64\n",
      "SkewRB           898 non-null float64\n",
      "KurtosisRR       898 non-null float64\n",
      "KurtosisRG       898 non-null float64\n",
      "KurtosisRB       898 non-null float64\n",
      "EntropyRR        898 non-null float64\n",
      "EntropyRG        898 non-null int64\n",
      "EntropyRB        898 non-null int64\n",
      "ALLdaub4RR       898 non-null float64\n",
      "ALLdaub4RG       898 non-null float64\n",
      "ALLdaub4RB       898 non-null float64\n",
      "Class            898 non-null object\n",
      "dtypes: float64(30), int64(4), object(1)\n",
      "memory usage: 245.7+ KB\n"
     ]
    }
   ],
   "source": [
    "# To check if the entries are the correct datatype, and if there are any missing values. \n",
    "data.info()"
   ]
  },
  {
   "cell_type": "code",
   "execution_count": 21,
   "id": "6fb0a1f7-8490-451a-a156-48f798800a59",
   "metadata": {
    "tags": []
   },
   "outputs": [
    {
     "data": {
      "text/plain": [
       "0"
      ]
     },
     "execution_count": 21,
     "metadata": {},
     "output_type": "execute_result"
    }
   ],
   "source": [
    "# Checking if there are any duplicated entries\n",
    "data.duplicated().sum()"
   ]
  },
  {
   "cell_type": "markdown",
   "id": "5f890b4f-3def-49a5-9eef-b3765f8fc69f",
   "metadata": {},
   "source": [
    "## Observations and Explanation\n",
    "\n",
    "### Dataset Summary\n",
    "1. **Dataset Shape**:\n",
    "   - The dataset contains **898 entries (rows)** and **35 columns**, including both features and the target variable (`Class`).\n",
    "   - There are no missing values in the dataset, as all columns have exactly 898 non-null entries.\n",
    "\n",
    "2. **Data Types**:\n",
    "   - Out of the 35 columns:\n",
    "     - **30 columns** are of type `float64`, representing numerical features with decimal precision.\n",
    "     - **4 columns** are of type `int64`, representing numerical features without decimals.\n",
    "     - **1 column** (`Class`) is of type `object`, representing the target variable that categorizes the date fruit type.\n",
    "---"
   ]
  },
  {
   "cell_type": "code",
   "execution_count": 22,
   "id": "4ae5db5a-8980-4844-bfba-55594c71242c",
   "metadata": {
    "tags": []
   },
   "outputs": [
    {
     "data": {
      "image/png": "[encoded data removed]",
      "text/plain": [
       "<Figure size 640x480 with 1 Axes>"
      ]
     },
     "metadata": {},
     "output_type": "display_data"
    }
   ],
   "source": [
    "# Creating a barplot of the number of elements in each category.\n",
    "sns.countplot(x='Class', data=data)\n",
    "plt.xticks(rotation=90)\n",
    "plt.title('Number of Elements in Each Category')\n",
    "plt.show()"
   ]
  },
  {
   "cell_type": "markdown",
   "id": "62e2dfb5-e6ec-4a39-bb00-99e16f98bfd2",
   "metadata": {},
   "source": [
    "# **Dataset Balance Analysis**\n",
    "\n",
    "The bar chart highlights the distribution of date fruit varieties in the dataset. Below are the key observations and their implications:\n",
    "\n",
    "## **Class Distribution**\n",
    "The dataset is **imbalanced**, with some classes being overrepresented:\n",
    "- **DOKOL** and **SAFAVI** dominate the dataset, with nearly **200 samples** each.\n",
    "- **BERHI** and **IRAQI** are **underrepresented**, with fewer than **100 samples**.\n",
    "- Other varieties like **DEGLET**, **ROTANA**, and **SOGAY** have **moderate representation**.\n",
    "\n",
    "## **Impact of Imbalance**\n",
    "- **Underrepresented Classes**:  \n",
    "  Models may struggle to generalize for minority classes like **BERHI** and **IRAQI**, leading to **lower recall** for these varieties.\n",
    "- **Overrepresented Classes**:  \n",
    "  The model might favor dominant classes like **DOKOL** and **SAFAVI**, resulting in **biased predictions**.\n",
    "\n",
    "## **Goal**\n",
    "✔ Address the imbalance to improve **classification performance** for all varieties, ensuring the model generalizes well across all classes.\n",
    "\n",
    "## **Plan**\n",
    "✅ Use **class weighting** during model training to penalize errors on minority classes.  \n",
    "✅ Evaluate the **model's performance** on each class to ensure **fairness** and balance in predictions.  \n",
    "\n",
    "---"
   ]
  },
  {
   "cell_type": "markdown",
   "id": "8328a0ad-36f4-4090-9d44-335cb6587cc7",
   "metadata": {},
   "source": [
    "### Splitting the Data\n",
    "In this section, we split the dataset into training, validation, and test sets to ensure effective model training and evaluation."
   ]
  },
  {
   "cell_type": "markdown",
   "id": "31b76940-6d0e-48cd-8d0a-a445507f7ef2",
   "metadata": {},
   "source": [
    "### **Step 1: Define Features and Target Variable**"
   ]
  },
  {
   "cell_type": "code",
   "execution_count": 10,
   "id": "3b1d9527-b8c0-4663-ade4-2c56d416353d",
   "metadata": {
    "tags": []
   },
   "outputs": [],
   "source": [
    "X = data.drop('Class', axis=1) # Extract all columns except 'Class' as features\n",
    "y = data['Class']              # Extract 'Class' column as the target variable"
   ]
  },
  {
   "cell_type": "markdown",
   "id": "e8d4891f-74aa-4a2e-ae90-3f5ecba2f4ac",
   "metadata": {},
   "source": [
    "---\n",
    "#### **Final Dataset Distribution**\n",
    "\n",
    "| **Dataset**       | **Percentage** | **Purpose**                                      |\n",
    "|-------------------|--------------|--------------------------------------------------|\n",
    "| **Training Set**  | **64%**       | Used for learning patterns                      |\n",
    "| **Validation Set** | **16%**      | Used for hyperparameter tuning & model selection |\n",
    "| **Test Set**      | **20%**       | Final evaluation of model performance           |\n"
   ]
  },
  {
   "cell_type": "code",
   "execution_count": 11,
   "id": "fa1e81f6-bfa1-4127-a8ed-7e257a77a950",
   "metadata": {
    "tags": []
   },
   "outputs": [],
   "source": [
    "# Initial split into train and test\n",
    "X_train, X_test, y_train, y_test = train_test_split(X, y, test_size=0.2, random_state=42, stratify=y)\n",
    "\n",
    "# Split train into train and validation\n",
    "X_train, X_val, y_train, y_val = train_test_split(X_train, y_train, test_size=0.2, random_state=42, stratify=y_train)"
   ]
  },
  {
   "cell_type": "markdown",
   "id": "a8b6d831-58f5-4e84-8a27-790ba2407ef0",
   "metadata": {},
   "source": [
    "---"
   ]
  },
  {
   "cell_type": "markdown",
   "id": "fb8cfa0f-48a6-4f4d-afe0-9ff9099e78e2",
   "metadata": {},
   "source": [
    "### Features scaling "
   ]
  },
  {
   "cell_type": "code",
   "execution_count": 12,
   "id": "71ebcd1d-e66d-4bf0-b165-4c160fca56b3",
   "metadata": {
    "tags": []
   },
   "outputs": [],
   "source": [
    "# Initialize and fit scaler on training features only\n",
    "scaler = MinMaxScaler()\n",
    "X_train_scaled = scaler.fit_transform(X_train)  \n",
    "X_val_scaled = scaler.transform(X_val)          \n",
    "X_test_scaled = scaler.transform(X_test)        "
   ]
  },
  {
   "cell_type": "markdown",
   "id": "86299377-0b5b-4ee8-ae32-273aa19c0829",
   "metadata": {},
   "source": [
    "#### **Feature Scaling with MinMaxScaler**\n",
    "\n",
    "#### **What’s Happening?**\n",
    "1. **Initialize the Scaler**  \n",
    "   - `MinMaxScaler()` scales all features between `[0,1]`.\n",
    "\n",
    "2. **Fit and Transform Training Data**  \n",
    "   - `scaler.fit_transform(X_train)`: Learns min/max values from training data and scales features.\n",
    "\n",
    "3. **Transform Validation & Test Data**  \n",
    "   - `scaler.transform(X_val)` and `scaler.transform(X_test)`: Applies the same scaling to keep consistency.\n",
    "\n",
    "#### **Why is this Important?**\n",
    "- **Balances Feature Ranges**: Prevents larger values from dominating smaller ones.  \n",
    "- **Speeds Up Training**: Neural networks converge faster with scaled inputs.  \n",
    "- **Prevents Data Leakage**: Ensures test data is scaled using training set parameters.  \n",
    "---"
   ]
  },
  {
   "cell_type": "markdown",
   "id": "7ba3a51e-6976-4baa-90c7-748ec66ef1a6",
   "metadata": {},
   "source": [
    "### label Encoding"
   ]
  },
  {
   "cell_type": "code",
   "execution_count": 13,
   "id": "87be783b-5a82-4783-98e2-f060c21c3e33",
   "metadata": {
    "tags": []
   },
   "outputs": [],
   "source": [
    "# Initialize and fit encoder on training labels only\n",
    "encoder = LabelEncoder()\n",
    "y_train_encoded = encoder.fit_transform(y_train)  # Fit and transform on train\n",
    "y_val_encoded = encoder.transform(y_val)          # Transform on validation\n",
    "y_test_encoded = encoder.transform(y_test)        # Transform on test"
   ]
  },
  {
   "cell_type": "code",
   "execution_count": 14,
   "id": "44112e79-3308-4d7f-a451-2cdf32a6830c",
   "metadata": {
    "tags": []
   },
   "outputs": [
    {
     "name": "stdout",
     "output_type": "stream",
     "text": [
      "{'BERHI': 0, 'DEGLET': 1, 'DOKOL': 2, 'IRAQI': 3, 'ROTANA': 4, 'SAFAVI': 5, 'SOGAY': 6}\n"
     ]
    }
   ],
   "source": [
    "label_mapping = dict(zip(encoder.classes_, encoder.transform(encoder.classes_)))\n",
    "print(label_mapping)"
   ]
  },
  {
   "cell_type": "markdown",
   "id": "07f3721f-bf01-4f58-99c1-cf32c1e1666b",
   "metadata": {},
   "source": [
    "#### **Label Encoding for Target Variable**\n",
    "\n",
    "#### **What’s Happening?**\n",
    "1. **Initialize the Encoder**  \n",
    "   - `LabelEncoder()` converts categorical labels (e.g., \"BERHI\", \"DEGLET\") into numerical values.\n",
    "\n",
    "2. **Fit and Transform Training Labels**  \n",
    "   - `encoder.fit_transform(y_train)`: Learns label mappings from training data and converts them to numbers.\n",
    "\n",
    "3. **Transform Validation & Test Labels**  \n",
    "   - `encoder.transform(y_val)` and `encoder.transform(y_test)`: Applies the same mapping to keep label consistency.\n",
    "\n",
    "#### **Why is this Important?**\n",
    "- **Converts Categorical Data to Numeric**: Machine learning models require numerical inputs.  \n",
    "---"
   ]
  },
  {
   "cell_type": "markdown",
   "id": "361fde3a-7503-4a46-aab9-e95c67f0ec5a",
   "metadata": {
    "tags": []
   },
   "source": [
    "### Modeling"
   ]
  },
  {
   "cell_type": "markdown",
   "id": "25b665b9-5268-4af2-83ae-f36643810d47",
   "metadata": {},
   "source": [
    "#### Build the Model"
   ]
  },
  {
   "cell_type": "code",
   "execution_count": 15,
   "id": "69c5af54-c5e6-4518-9b25-7ac15eeefe0a",
   "metadata": {
    "tags": []
   },
   "outputs": [
    {
     "name": "stdout",
     "output_type": "stream",
     "text": [
      "Model: \"sequential\"\n",
      "_________________________________________________________________\n",
      "Layer (type)                 Output Shape              Param #   \n",
      "=================================================================\n",
      "dense (Dense)                (None, 64)                2240      \n",
      "_________________________________________________________________\n",
      "batch_normalization (BatchNo (None, 64)                256       \n",
      "_________________________________________________________________\n",
      "dropout (Dropout)            (None, 64)                0         \n",
      "_________________________________________________________________\n",
      "dense_1 (Dense)              (None, 32)                2080      \n",
      "_________________________________________________________________\n",
      "batch_normalization_1 (Batch (None, 32)                128       \n",
      "_________________________________________________________________\n",
      "dropout_1 (Dropout)          (None, 32)                0         \n",
      "_________________________________________________________________\n",
      "dense_2 (Dense)              (None, 7)                 231       \n",
      "=================================================================\n",
      "Total params: 4,935\n",
      "Trainable params: 4,743\n",
      "Non-trainable params: 192\n",
      "_________________________________________________________________\n"
     ]
    }
   ],
   "source": [
    "# Using tf.keras.Sequential to create a fully connected neural network with at least two hidden layers.\n",
    "\n",
    "model = Sequential([\n",
    "    Dense(64, activation='relu', input_shape=(X_train_scaled.shape[1],), kernel_regularizer=l2(0.001)),\n",
    "    BatchNormalization(),\n",
    "    Dropout(0.4),\n",
    "    Dense(32, activation='relu', kernel_regularizer=l2(0.001)),\n",
    "    BatchNormalization(),\n",
    "    Dropout(0.4),\n",
    "    Dense(len(encoder.classes_), activation='softmax')\n",
    "])\n",
    "\n",
    "model.summary()"
   ]
  },
  {
   "cell_type": "markdown",
   "id": "7d2c01c9-8818-43c2-83c3-3648759435dd",
   "metadata": {},
   "source": [
    "#### **Summary: Building the Neural Network**\n",
    "- **Created a sequential neural network** with two hidden layers.\n",
    "- **Used ReLU activation** for non-linearity and efficient learning.\n",
    "- **Applied regularization techniques** (L2, Batch Normalization, Dropout) to prevent overfitting.\n",
    "- **Output layer uses Softmax** to produce class probabilities for multi-class classification.\n",
    "---"
   ]
  },
  {
   "cell_type": "markdown",
   "id": "94768942-5357-4ab0-b916-5c7d2fc54851",
   "metadata": {},
   "source": [
    "#### Compile the model"
   ]
  },
  {
   "cell_type": "code",
   "execution_count": 16,
   "id": "3b3997f1-8bb4-4585-8056-d33adc6977e3",
   "metadata": {
    "tags": []
   },
   "outputs": [],
   "source": [
    "# Compiling the model with a choice of optimizer and loss function, and the set the metrics argument equal to ['accuracy'].\n",
    "# Using 'sparse_categorical_crossentropy' as loss function because the labels are encoded as integers.\n",
    "\n",
    "from tensorflow.keras.optimizers import Adam\n",
    "\n",
    "model.compile(optimizer=Adam(learning_rate = 0.001), loss='sparse_categorical_crossentropy', metrics=['accuracy'])"
   ]
  },
  {
   "cell_type": "markdown",
   "id": "aafc4c56-76d6-4fd0-9e72-a646c175ed79",
   "metadata": {},
   "source": [
    "#### **Summary: Compiling the Model**\n",
    "- **Optimizer**: Uses **Adam** with a learning rate of `0.001`.\n",
    "- **Loss Function**: **Sparse Categorical Crossentropy**, suitable for multi-class classification with integer-encoded labels.\n",
    "- **Evaluation Metric**: **Accuracy**, to track the model's performance during training.\n",
    "- **Purpose**: Prepares the model for training by defining how it learns and evaluates predictions.\n",
    "---"
   ]
  },
  {
   "cell_type": "markdown",
   "id": "7ce14f07-6650-4250-9d9e-dc838d1951a3",
   "metadata": {},
   "source": [
    "#### Train the model"
   ]
  },
  {
   "cell_type": "code",
   "execution_count": 17,
   "id": "7d899a20-516a-4b4f-a9f7-b8b04689f3f3",
   "metadata": {
    "tags": []
   },
   "outputs": [
    {
     "name": "stdout",
     "output_type": "stream",
     "text": [
      "WARNING:tensorflow:sample_weight modes were coerced from\n",
      "  ...\n",
      "    to  \n",
      "  ['...']\n",
      "WARNING:tensorflow:sample_weight modes were coerced from\n",
      "  ...\n",
      "    to  \n",
      "  ['...']\n",
      "Train on 574 samples, validate on 144 samples\n",
      "Epoch 1/100\n",
      "574/574 [==============================] - 1s 929us/sample - loss: 2.4703 - accuracy: 0.2125 - val_loss: 1.9282 - val_accuracy: 0.3958\n",
      "Epoch 2/100\n",
      "574/574 [==============================] - 0s 74us/sample - loss: 1.6821 - accuracy: 0.4164 - val_loss: 1.8242 - val_accuracy: 0.4306\n",
      "Epoch 3/100\n",
      "574/574 [==============================] - 0s 71us/sample - loss: 1.4934 - accuracy: 0.5244 - val_loss: 1.7496 - val_accuracy: 0.4931\n",
      "Epoch 4/100\n",
      "574/574 [==============================] - 0s 63us/sample - loss: 1.2998 - accuracy: 0.5488 - val_loss: 1.6892 - val_accuracy: 0.5486\n",
      "Epoch 5/100\n",
      "574/574 [==============================] - 0s 57us/sample - loss: 1.3042 - accuracy: 0.5767 - val_loss: 1.6215 - val_accuracy: 0.5972\n",
      "Epoch 6/100\n",
      "574/574 [==============================] - 0s 74us/sample - loss: 1.0950 - accuracy: 0.6603 - val_loss: 1.5517 - val_accuracy: 0.6389\n",
      "Epoch 7/100\n",
      "574/574 [==============================] - 0s 78us/sample - loss: 1.0793 - accuracy: 0.6463 - val_loss: 1.4597 - val_accuracy: 0.6875\n",
      "Epoch 8/100\n",
      "574/574 [==============================] - 0s 52us/sample - loss: 1.0410 - accuracy: 0.6725 - val_loss: 1.3694 - val_accuracy: 0.6944\n",
      "Epoch 9/100\n",
      "574/574 [==============================] - 0s 51us/sample - loss: 0.9958 - accuracy: 0.6672 - val_loss: 1.3062 - val_accuracy: 0.7292\n",
      "Epoch 10/100\n",
      "574/574 [==============================] - 0s 53us/sample - loss: 0.9166 - accuracy: 0.7143 - val_loss: 1.2407 - val_accuracy: 0.7639\n",
      "Epoch 11/100\n",
      "574/574 [==============================] - 0s 51us/sample - loss: 0.8664 - accuracy: 0.7195 - val_loss: 1.1384 - val_accuracy: 0.7569\n",
      "Epoch 12/100\n",
      "574/574 [==============================] - 0s 52us/sample - loss: 0.9312 - accuracy: 0.7073 - val_loss: 1.0610 - val_accuracy: 0.7986\n",
      "Epoch 13/100\n",
      "574/574 [==============================] - 0s 50us/sample - loss: 0.8853 - accuracy: 0.7334 - val_loss: 0.9965 - val_accuracy: 0.8125\n",
      "Epoch 14/100\n",
      "574/574 [==============================] - 0s 47us/sample - loss: 0.8367 - accuracy: 0.7526 - val_loss: 0.9343 - val_accuracy: 0.8333\n",
      "Epoch 15/100\n",
      "574/574 [==============================] - 0s 50us/sample - loss: 0.8269 - accuracy: 0.7125 - val_loss: 0.8820 - val_accuracy: 0.8333\n",
      "Epoch 16/100\n",
      "574/574 [==============================] - 0s 53us/sample - loss: 0.8346 - accuracy: 0.7753 - val_loss: 0.8457 - val_accuracy: 0.8333\n",
      "Epoch 17/100\n",
      "574/574 [==============================] - 0s 55us/sample - loss: 0.7955 - accuracy: 0.7456 - val_loss: 0.7716 - val_accuracy: 0.8611\n",
      "Epoch 18/100\n",
      "574/574 [==============================] - 0s 49us/sample - loss: 0.7907 - accuracy: 0.7631 - val_loss: 0.7139 - val_accuracy: 0.9097\n",
      "Epoch 19/100\n",
      "574/574 [==============================] - 0s 54us/sample - loss: 0.7475 - accuracy: 0.7735 - val_loss: 0.6821 - val_accuracy: 0.9028\n",
      "Epoch 20/100\n",
      "574/574 [==============================] - 0s 49us/sample - loss: 0.7472 - accuracy: 0.7700 - val_loss: 0.6547 - val_accuracy: 0.9028\n",
      "Epoch 21/100\n",
      "574/574 [==============================] - 0s 54us/sample - loss: 0.7306 - accuracy: 0.8014 - val_loss: 0.6188 - val_accuracy: 0.8889\n",
      "Epoch 22/100\n",
      "574/574 [==============================] - 0s 52us/sample - loss: 0.7021 - accuracy: 0.7909 - val_loss: 0.5997 - val_accuracy: 0.8819\n",
      "Epoch 23/100\n",
      "574/574 [==============================] - 0s 54us/sample - loss: 0.6918 - accuracy: 0.7944 - val_loss: 0.5742 - val_accuracy: 0.9028\n",
      "Epoch 24/100\n",
      "574/574 [==============================] - 0s 49us/sample - loss: 0.7406 - accuracy: 0.7944 - val_loss: 0.5602 - val_accuracy: 0.8958\n",
      "Epoch 25/100\n",
      "574/574 [==============================] - 0s 47us/sample - loss: 0.6937 - accuracy: 0.8049 - val_loss: 0.5273 - val_accuracy: 0.8958\n",
      "Epoch 26/100\n",
      "574/574 [==============================] - 0s 49us/sample - loss: 0.8357 - accuracy: 0.7526 - val_loss: 0.5137 - val_accuracy: 0.8819\n",
      "Epoch 27/100\n",
      "574/574 [==============================] - 0s 53us/sample - loss: 0.6603 - accuracy: 0.7840 - val_loss: 0.5133 - val_accuracy: 0.8819\n",
      "Epoch 28/100\n",
      "574/574 [==============================] - 0s 51us/sample - loss: 0.6919 - accuracy: 0.8014 - val_loss: 0.5018 - val_accuracy: 0.8681\n",
      "Epoch 29/100\n",
      "574/574 [==============================] - 0s 49us/sample - loss: 0.6590 - accuracy: 0.8275 - val_loss: 0.4527 - val_accuracy: 0.8889\n",
      "Epoch 30/100\n",
      "574/574 [==============================] - 0s 53us/sample - loss: 0.6642 - accuracy: 0.8136 - val_loss: 0.4385 - val_accuracy: 0.9028\n",
      "Epoch 31/100\n",
      "574/574 [==============================] - 0s 52us/sample - loss: 0.6243 - accuracy: 0.8171 - val_loss: 0.4346 - val_accuracy: 0.9097\n",
      "Epoch 32/100\n",
      "574/574 [==============================] - 0s 51us/sample - loss: 0.5987 - accuracy: 0.8293 - val_loss: 0.4311 - val_accuracy: 0.8958\n",
      "Epoch 33/100\n",
      "574/574 [==============================] - 0s 51us/sample - loss: 0.6586 - accuracy: 0.8171 - val_loss: 0.4116 - val_accuracy: 0.8958\n",
      "Epoch 34/100\n",
      "574/574 [==============================] - 0s 50us/sample - loss: 0.6440 - accuracy: 0.8031 - val_loss: 0.4141 - val_accuracy: 0.9028\n",
      "Epoch 35/100\n",
      "574/574 [==============================] - 0s 50us/sample - loss: 0.6229 - accuracy: 0.8362 - val_loss: 0.4192 - val_accuracy: 0.9167\n",
      "Epoch 36/100\n",
      "574/574 [==============================] - 0s 46us/sample - loss: 0.6216 - accuracy: 0.8136 - val_loss: 0.4354 - val_accuracy: 0.8819\n",
      "Epoch 37/100\n",
      "574/574 [==============================] - 0s 52us/sample - loss: 0.5906 - accuracy: 0.8223 - val_loss: 0.4243 - val_accuracy: 0.9097\n",
      "Epoch 38/100\n",
      "574/574 [==============================] - 0s 48us/sample - loss: 0.6498 - accuracy: 0.8014 - val_loss: 0.3987 - val_accuracy: 0.8958\n",
      "Epoch 39/100\n",
      "574/574 [==============================] - 0s 47us/sample - loss: 0.5953 - accuracy: 0.8310 - val_loss: 0.3837 - val_accuracy: 0.9097\n",
      "Epoch 40/100\n",
      "574/574 [==============================] - 0s 45us/sample - loss: 0.5908 - accuracy: 0.8084 - val_loss: 0.3787 - val_accuracy: 0.9097\n",
      "Epoch 41/100\n",
      "574/574 [==============================] - 0s 73us/sample - loss: 0.5628 - accuracy: 0.8467 - val_loss: 0.3738 - val_accuracy: 0.9167\n",
      "Epoch 42/100\n",
      "574/574 [==============================] - 0s 55us/sample - loss: 0.5572 - accuracy: 0.8589 - val_loss: 0.3508 - val_accuracy: 0.9167\n",
      "Epoch 43/100\n",
      "574/574 [==============================] - 0s 48us/sample - loss: 0.5741 - accuracy: 0.8345 - val_loss: 0.3396 - val_accuracy: 0.9236\n",
      "Epoch 44/100\n",
      "574/574 [==============================] - 0s 47us/sample - loss: 0.5329 - accuracy: 0.8328 - val_loss: 0.3315 - val_accuracy: 0.9167\n",
      "Epoch 45/100\n",
      "574/574 [==============================] - 0s 47us/sample - loss: 0.5727 - accuracy: 0.8432 - val_loss: 0.3399 - val_accuracy: 0.9097\n",
      "Epoch 46/100\n",
      "574/574 [==============================] - 0s 51us/sample - loss: 0.5781 - accuracy: 0.8136 - val_loss: 0.3459 - val_accuracy: 0.8958\n",
      "Epoch 47/100\n",
      "574/574 [==============================] - 0s 48us/sample - loss: 0.5179 - accuracy: 0.8571 - val_loss: 0.3263 - val_accuracy: 0.9167\n",
      "Epoch 48/100\n",
      "574/574 [==============================] - 0s 52us/sample - loss: 0.4965 - accuracy: 0.8659 - val_loss: 0.3205 - val_accuracy: 0.9236\n",
      "Epoch 49/100\n",
      "574/574 [==============================] - 0s 51us/sample - loss: 0.5026 - accuracy: 0.8502 - val_loss: 0.3264 - val_accuracy: 0.9236\n",
      "Epoch 50/100\n",
      "574/574 [==============================] - 0s 48us/sample - loss: 0.5648 - accuracy: 0.8415 - val_loss: 0.3646 - val_accuracy: 0.8958\n",
      "Epoch 51/100\n",
      "574/574 [==============================] - 0s 46us/sample - loss: 0.5664 - accuracy: 0.8345 - val_loss: 0.3394 - val_accuracy: 0.9306\n",
      "Epoch 52/100\n",
      "574/574 [==============================] - 0s 46us/sample - loss: 0.5326 - accuracy: 0.8345 - val_loss: 0.3414 - val_accuracy: 0.9306\n",
      "Epoch 53/100\n",
      "574/574 [==============================] - 0s 47us/sample - loss: 0.5037 - accuracy: 0.8763 - val_loss: 0.3283 - val_accuracy: 0.9306\n",
      "Epoch 54/100\n",
      "574/574 [==============================] - 0s 46us/sample - loss: 0.5276 - accuracy: 0.8554 - val_loss: 0.3192 - val_accuracy: 0.9236\n",
      "Epoch 55/100\n",
      "574/574 [==============================] - 0s 46us/sample - loss: 0.5299 - accuracy: 0.8537 - val_loss: 0.3238 - val_accuracy: 0.9306\n",
      "Epoch 56/100\n",
      "574/574 [==============================] - 0s 55us/sample - loss: 0.5071 - accuracy: 0.8537 - val_loss: 0.3070 - val_accuracy: 0.9306\n",
      "Epoch 57/100\n",
      "574/574 [==============================] - 0s 44us/sample - loss: 0.5489 - accuracy: 0.8606 - val_loss: 0.3023 - val_accuracy: 0.9236\n",
      "Epoch 58/100\n",
      "574/574 [==============================] - 0s 44us/sample - loss: 0.4909 - accuracy: 0.8589 - val_loss: 0.3447 - val_accuracy: 0.9236\n",
      "Epoch 59/100\n",
      "574/574 [==============================] - 0s 47us/sample - loss: 0.5035 - accuracy: 0.8659 - val_loss: 0.3463 - val_accuracy: 0.9306\n",
      "Epoch 60/100\n",
      "574/574 [==============================] - 0s 45us/sample - loss: 0.4747 - accuracy: 0.8624 - val_loss: 0.3424 - val_accuracy: 0.9097\n",
      "Epoch 61/100\n",
      "574/574 [==============================] - 0s 48us/sample - loss: 0.4671 - accuracy: 0.8728 - val_loss: 0.3160 - val_accuracy: 0.9167\n",
      "Epoch 62/100\n",
      "574/574 [==============================] - 0s 261us/sample - loss: 0.4428 - accuracy: 0.8746 - val_loss: 0.3053 - val_accuracy: 0.9236\n",
      "Epoch 63/100\n",
      "574/574 [==============================] - 0s 93us/sample - loss: 0.4677 - accuracy: 0.8815 - val_loss: 0.3563 - val_accuracy: 0.9167\n",
      "Epoch 64/100\n",
      "574/574 [==============================] - 0s 56us/sample - loss: 0.4515 - accuracy: 0.8728 - val_loss: 0.4005 - val_accuracy: 0.8958\n",
      "Epoch 65/100\n",
      "574/574 [==============================] - 0s 51us/sample - loss: 0.4560 - accuracy: 0.8902 - val_loss: 0.3393 - val_accuracy: 0.9028\n",
      "Epoch 66/100\n",
      "574/574 [==============================] - 0s 54us/sample - loss: 0.4426 - accuracy: 0.8711 - val_loss: 0.2922 - val_accuracy: 0.9236\n",
      "Epoch 67/100\n",
      "574/574 [==============================] - 0s 59us/sample - loss: 0.4656 - accuracy: 0.8676 - val_loss: 0.2935 - val_accuracy: 0.9097\n",
      "Epoch 68/100\n",
      "574/574 [==============================] - 0s 54us/sample - loss: 0.4849 - accuracy: 0.8815 - val_loss: 0.3086 - val_accuracy: 0.9167\n",
      "Epoch 69/100\n",
      "574/574 [==============================] - 0s 68us/sample - loss: 0.4659 - accuracy: 0.8728 - val_loss: 0.3030 - val_accuracy: 0.9236\n",
      "Epoch 70/100\n",
      "574/574 [==============================] - 0s 67us/sample - loss: 0.4640 - accuracy: 0.8763 - val_loss: 0.2960 - val_accuracy: 0.9306\n",
      "Epoch 71/100\n",
      "574/574 [==============================] - 0s 51us/sample - loss: 0.4384 - accuracy: 0.8537 - val_loss: 0.2896 - val_accuracy: 0.9306\n",
      "Epoch 72/100\n",
      "574/574 [==============================] - 0s 50us/sample - loss: 0.4382 - accuracy: 0.8641 - val_loss: 0.2958 - val_accuracy: 0.9167\n",
      "Epoch 73/100\n",
      "574/574 [==============================] - 0s 59us/sample - loss: 0.4528 - accuracy: 0.8606 - val_loss: 0.2989 - val_accuracy: 0.9167\n",
      "Epoch 74/100\n",
      "574/574 [==============================] - 0s 66us/sample - loss: 0.4432 - accuracy: 0.8711 - val_loss: 0.3086 - val_accuracy: 0.9097\n",
      "Epoch 75/100\n",
      "574/574 [==============================] - 0s 70us/sample - loss: 0.4681 - accuracy: 0.8624 - val_loss: 0.3182 - val_accuracy: 0.9375\n",
      "Epoch 76/100\n",
      "574/574 [==============================] - 0s 73us/sample - loss: 0.4391 - accuracy: 0.8850 - val_loss: 0.3056 - val_accuracy: 0.9167\n",
      "Epoch 77/100\n",
      "574/574 [==============================] - 0s 72us/sample - loss: 0.4429 - accuracy: 0.8868 - val_loss: 0.2955 - val_accuracy: 0.9167\n",
      "Epoch 78/100\n",
      "574/574 [==============================] - 0s 70us/sample - loss: 0.4291 - accuracy: 0.8641 - val_loss: 0.2803 - val_accuracy: 0.9167\n",
      "Epoch 79/100\n",
      "574/574 [==============================] - 0s 74us/sample - loss: 0.4317 - accuracy: 0.8659 - val_loss: 0.3165 - val_accuracy: 0.9097\n",
      "Epoch 80/100\n",
      "574/574 [==============================] - 0s 68us/sample - loss: 0.4550 - accuracy: 0.8868 - val_loss: 0.2980 - val_accuracy: 0.9028\n",
      "Epoch 81/100\n",
      "574/574 [==============================] - 0s 68us/sample - loss: 0.4337 - accuracy: 0.8798 - val_loss: 0.2813 - val_accuracy: 0.9306\n",
      "Epoch 82/100\n",
      "574/574 [==============================] - 0s 77us/sample - loss: 0.4286 - accuracy: 0.8641 - val_loss: 0.2772 - val_accuracy: 0.9236\n",
      "Epoch 83/100\n",
      "574/574 [==============================] - 0s 85us/sample - loss: 0.4387 - accuracy: 0.8833 - val_loss: 0.2726 - val_accuracy: 0.9306\n",
      "Epoch 84/100\n",
      "574/574 [==============================] - 0s 79us/sample - loss: 0.4767 - accuracy: 0.8746 - val_loss: 0.2680 - val_accuracy: 0.9306\n",
      "Epoch 85/100\n",
      "574/574 [==============================] - 0s 64us/sample - loss: 0.4800 - accuracy: 0.8693 - val_loss: 0.2751 - val_accuracy: 0.9236\n",
      "Epoch 86/100\n",
      "574/574 [==============================] - 0s 68us/sample - loss: 0.4377 - accuracy: 0.8850 - val_loss: 0.2878 - val_accuracy: 0.9097\n",
      "Epoch 87/100\n",
      "574/574 [==============================] - 0s 68us/sample - loss: 0.3911 - accuracy: 0.8990 - val_loss: 0.2753 - val_accuracy: 0.9167\n",
      "Epoch 88/100\n",
      "574/574 [==============================] - 0s 75us/sample - loss: 0.4261 - accuracy: 0.8885 - val_loss: 0.3211 - val_accuracy: 0.9097\n",
      "Epoch 89/100\n",
      "574/574 [==============================] - 0s 72us/sample - loss: 0.4182 - accuracy: 0.8885 - val_loss: 0.3060 - val_accuracy: 0.9028\n",
      "Epoch 90/100\n",
      "574/574 [==============================] - 0s 73us/sample - loss: 0.4022 - accuracy: 0.8833 - val_loss: 0.3036 - val_accuracy: 0.9167\n",
      "Epoch 91/100\n",
      "574/574 [==============================] - 0s 77us/sample - loss: 0.3847 - accuracy: 0.9146 - val_loss: 0.3049 - val_accuracy: 0.9236\n",
      "Epoch 92/100\n",
      "574/574 [==============================] - 0s 80us/sample - loss: 0.4045 - accuracy: 0.8902 - val_loss: 0.2748 - val_accuracy: 0.9306\n",
      "Epoch 93/100\n",
      "574/574 [==============================] - 0s 75us/sample - loss: 0.3976 - accuracy: 0.8990 - val_loss: 0.2760 - val_accuracy: 0.9167\n",
      "Epoch 94/100\n",
      "574/574 [==============================] - 0s 72us/sample - loss: 0.4017 - accuracy: 0.8693 - val_loss: 0.3002 - val_accuracy: 0.9167\n"
     ]
    }
   ],
   "source": [
    "# Train the model and record the training and validation accuracy\n",
    "from tensorflow.keras.callbacks import EarlyStopping\n",
    "from sklearn.utils.class_weight import compute_class_weight\n",
    "\n",
    "# 1.) \n",
    "early_stop = EarlyStopping(monitor='val_loss', patience=10, restore_best_weights=True)\n",
    "\n",
    "\n",
    "# 2.) \n",
    "class_weights = compute_class_weight(\n",
    "    class_weight='balanced',\n",
    "    classes=np.unique(y_train_encoded),\n",
    "    y=y_train_encoded\n",
    ")\n",
    "\n",
    "class_weights_dict = dict(enumerate(class_weights))\n",
    "\n",
    "# 3.) \n",
    "history = model.fit(\n",
    "    X_train_scaled, y_train_encoded,\n",
    "    epochs=100,\n",
    "    validation_data=(X_val_scaled, y_val_encoded),\n",
    "    callbacks=[early_stop],\n",
    "    class_weight=class_weights_dict)\n"
   ]
  },
  {
   "cell_type": "markdown",
   "id": "d40caa2c-b577-4581-823c-60a697038ce9",
   "metadata": {},
   "source": [
    "#### **Training the Model with Early Stopping and Class Weights**\n",
    "\n",
    "#### **What’s Happening?**\n",
    "1. **Early Stopping**  \n",
    "   - `EarlyStopping(monitor='val_loss', patience=10, restore_best_weights=True)`  \n",
    "   - Stops training if validation loss doesn’t improve for **10 consecutive epochs**, preventing **overfitting**.\n",
    "\n",
    "2. **Handling Class Imbalance**  \n",
    "   - `compute_class_weight()` assigns **higher weights** to underrepresented classes, ensuring the model doesn’t favor majority classes.\n",
    "   - Converts these weights into a dictionary (`class_weights_dict`) to be used during training.\n",
    "\n",
    "3. **Training the Model**  \n",
    "   - `model.fit(...)` trains the neural network for **100 epochs** with:  \n",
    "     - **Training Data**: `X_train_scaled`, `y_train_encoded`\n",
    "     - **Validation Data**: `X_val_scaled`, `y_val_encoded`\n",
    "     - **Class Weights**: Balances the impact of different class sizes.\n",
    "     - **Callbacks**: Uses **early stopping** to prevent overfitting.\n",
    "\n",
    "### **Why is This Important?**\n",
    "- **Prevents Overfitting**: Stops training early when performance starts degrading.\n",
    "- **Handles Imbalance**: Ensures fair learning across all classes.\n",
    "- **Improves Generalization**: Helps the model perform well on unseen data.\n",
    "---"
   ]
  },
  {
   "cell_type": "markdown",
   "id": "c4602435-e0d2-4558-81ed-406309439bee",
   "metadata": {},
   "source": [
    "#### Evaluate the Model"
   ]
  },
  {
   "cell_type": "code",
   "execution_count": 18,
   "id": "362441d6-da07-4909-b822-29f7c2f2dbd0",
   "metadata": {},
   "outputs": [
    {
     "name": "stdout",
     "output_type": "stream",
     "text": [
      "Test Accuracy: 0.9222\n",
      "\n",
      "Classification Report:\n",
      "              precision    recall  f1-score   support\n",
      "\n",
      "       BERHI       0.92      0.92      0.92        13\n",
      "      DEGLET       0.83      0.75      0.79        20\n",
      "       DOKOL       0.97      0.95      0.96        41\n",
      "       IRAQI       0.93      0.93      0.93        14\n",
      "      ROTANA       0.97      0.91      0.94        33\n",
      "      SAFAVI       1.00      1.00      1.00        40\n",
      "       SOGAY       0.71      0.89      0.79        19\n",
      "\n",
      "    accuracy                           0.92       180\n",
      "   macro avg       0.91      0.91      0.90       180\n",
      "weighted avg       0.93      0.92      0.92       180\n",
      "\n"
     ]
    }
   ],
   "source": [
    "# Evaluating the model on the test set\n",
    "test_loss, test_accuracy = model.evaluate(X_test_scaled, y_test_encoded, verbose=0)\n",
    "print(f\"Test Accuracy: {test_accuracy:.4f}\")\n",
    "\n",
    "\n",
    "\n",
    "# Generating predictions and classification report\n",
    "y_pred = model.predict(X_test_scaled)\n",
    "y_pred_classes = np.argmax(y_pred, axis=1)\n",
    "\n",
    "\n",
    "\n",
    "# Converting encoded labels back to original class names\n",
    "class_names = encoder.classes_\n",
    "\n",
    "\n",
    "\n",
    "# Printing the Classification Report\n",
    "print(\"\\nClassification Report:\")\n",
    "print(classification_report(y_test_encoded, y_pred_classes, target_names=class_names))\n"
   ]
  },
  {
   "cell_type": "code",
   "execution_count": 19,
   "id": "c5b74d82-b8d2-4c00-a2de-2417c8e3f661",
   "metadata": {
    "tags": []
   },
   "outputs": [
    {
     "data": {
      "image/png": "[encoded data removed]",
      "text/plain": [
       "<Figure size 1000x800 with 2 Axes>"
      ]
     },
     "metadata": {},
     "output_type": "display_data"
    }
   ],
   "source": [
    "# Ploting confusion matrix\n",
    "cm = confusion_matrix(y_test_encoded, y_pred_classes)\n",
    "plt.figure(figsize=(10, 8))\n",
    "sns.heatmap(cm, annot=True, fmt='d', cmap='Blues', xticklabels=class_names, yticklabels=class_names)\n",
    "plt.title('Confusion Matrix')\n",
    "plt.xlabel('Predicted')\n",
    "plt.ylabel('Actual')\n",
    "plt.show()\n"
   ]
  },
  {
   "cell_type": "markdown",
   "id": "cb35db82-60ca-4e17-9790-321849382271",
   "metadata": {},
   "source": [
    "---\n",
    "#### **Model Performance Analysis**\n",
    "\n",
    "#### **1. Overall Accuracy**\n",
    "- The model achieved a **test accuracy of 92.22%**, meaning it correctly classifies **92% of the test samples**.\n",
    "- This indicates strong performance in recognizing different date fruit varieties.\n",
    "\n",
    "#### **2. Class-Level Performance**\n",
    "#### **High-Performing Classes:**\n",
    "- **SAFAVI** (1.00 precision, recall, and F1-score) → **Perfect classification**.\n",
    "- **DOKOL & ROTANA** also have **high precision and recall**, meaning the model predicts them with great confidence.\n",
    "\n",
    "#### **Lower-Performing Classes:**\n",
    "- **DEGLET** (0.83 precision, 0.75 recall) → The model **struggles to identify** some DEGLET samples correctly (**lower recall**).\n",
    "- **SOGAY** (0.71 precision, 0.89 recall) → The model **predicts more false positives** (**lower precision**) but still captures most SOGAY samples (**high recall**).\n",
    "\n",
    "#### **3. Macro vs. Weighted Average**\n",
    "- **Macro Avg (0.91 precision, recall, F1-score)**:  \n",
    "  - Shows **balanced performance across all classes**, treating each class equally.\n",
    "- **Weighted Avg (0.93 precision, recall, F1-score)**:  \n",
    "  - Slightly higher, meaning the model performs better for **majority classes** (**DOKOL, SAFAVI**).\n",
    "---"
   ]
  },
  {
   "cell_type": "code",
   "execution_count": null,
   "id": "7f602262-337e-4250-b775-3cc6769051fe",
   "metadata": {},
   "outputs": [],
   "source": []
  }
 ],
 "metadata": {
  "kernelspec": {
   "display_name": "Python 3 (ipykernel)",
   "language": "python",
   "name": "python3"
  },
  "language_info": {
   "codemirror_mode": {
    "name": "ipython",
    "version": 3
   },
   "file_extension": ".py",
   "mimetype": "text/x-python",
   "name": "python",
   "nbconvert_exporter": "python",
   "pygments_lexer": "ipython3",
   "version": "3.7.12"
  }
 },
 "nbformat": 4,
 "nbformat_minor": 5
}
